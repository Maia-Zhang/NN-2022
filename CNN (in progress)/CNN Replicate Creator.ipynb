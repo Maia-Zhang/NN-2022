{
 "cells": [
  {
   "cell_type": "markdown",
   "id": "e14c0254",
   "metadata": {
    "scrolled": true
   },
   "source": [
    "This function automates creating EEM replicates with up to +/- 2% noise (or any percent defined by the user). In the example below, we create a series of replicates for the folder where AmBD1 EEM csv's live. We add noise and save these replicates to the desktop, calling them \"AmBD1 Rep X\" with X starting at 201."
   ]
  },
  {
   "cell_type": "code",
   "execution_count": 4,
   "id": "578f0855",
   "metadata": {},
   "outputs": [],
   "source": [
    "import numpy as np\n",
    "import pandas as pd\n",
    "import scipy as sp\n",
    "import os \n",
    "\n",
    "def replicate(savepath,loadpath,percent,name,startnum):\n",
    "    '''\n",
    "    inputs: \n",
    "    filepath: The folder path of the CSV's that the user wishes to replicate\n",
    "    percent: The percent noise that the user wants to add\n",
    "    name: The generic name that the user wants applied to the soon-to-be replicates\n",
    "    startnum: The replicates will be labeled as \"name + startnum\" where \"startnum\" is the\n",
    "    number at which the function begins numbering\n",
    "    \n",
    "    ouputs: Double the amount of csv's as before in the location defined by the user. \n",
    "    '''\n",
    "    counter=0\n",
    "    for filename in os.listdir(loadpath):\n",
    "        f = os.path.join(loadpath, filename)\n",
    "        df = pd.read_csv(f)\n",
    "        df_new=pd.DataFrame()\n",
    "        df_new['ex/em']=df.iloc[:,0]\n",
    "        for col in df.columns[1:]:\n",
    "            col1=df[col]\n",
    "            df_new[col]=\"\"\n",
    "            Max=max(col1)\n",
    "            Min=min(col1)\n",
    "            Amp=int((Max-Min)*percent)\n",
    "            new_item_list=[]\n",
    "            for item in col1:\n",
    "                random=np.random.random()\n",
    "                new_item=((item-Amp)+2*Amp*random)\n",
    "                new_item=round(new_item,2)\n",
    "                new_item_list.append(new_item)\n",
    "            df_new[col]=new_item_list\n",
    "        start=startnum\n",
    "        start+=counter\n",
    "        counter+=1\n",
    "        df_new.to_csv(savepath+'\\\\'+name+' ('+str(start)+')'+'.csv', index=False)\n",
    "\n",
    "lp=r\"C:\\Users\\maiaz\\Desktop\\Corradini Lab\\CNN Data\\AmBD1\"\n",
    "sp=r\"C:\\Users\\maiaz\\Desktop\"\n",
    "replicate(savepath=sp, loadpath=lp,percent=0.02, name='AmBD1 Rep', startnum=201)\n"
   ]
  },
  {
   "cell_type": "code",
   "execution_count": null,
   "id": "490a9ab6",
   "metadata": {},
   "outputs": [],
   "source": []
  }
 ],
 "metadata": {
  "kernelspec": {
   "display_name": "Python 3 (ipykernel)",
   "language": "python",
   "name": "python3"
  },
  "language_info": {
   "codemirror_mode": {
    "name": "ipython",
    "version": 3
   },
   "file_extension": ".py",
   "mimetype": "text/x-python",
   "name": "python",
   "nbconvert_exporter": "python",
   "pygments_lexer": "ipython3",
   "version": "3.9.16"
  }
 },
 "nbformat": 4,
 "nbformat_minor": 5
}
