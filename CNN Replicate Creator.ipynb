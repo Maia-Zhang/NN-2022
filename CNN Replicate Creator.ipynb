{
 "cells": [
  {
   "cell_type": "markdown",
   "id": "e14c0254",
   "metadata": {
    "scrolled": true
   },
   "source": [
    "This function automates creating EEM replicates with up to +/- 2% noise."
   ]
  },
  {
   "cell_type": "code",
   "execution_count": null,
   "id": "578f0855",
   "metadata": {},
   "outputs": [],
   "source": [
    "import numpy as np\n",
    "import pandas as pd\n",
    "import scipy as sp\n",
    "import os \n",
    "\n",
    "def replicate(filepath,percent,name,startnum):\n",
    "    counter=0\n",
    "    for filename in os.listdir(filepath):\n",
    "        f = os.path.join(filepath, filename)\n",
    "        df = pd.read_csv(f)\n",
    "        df_new=pd.DataFrame()\n",
    "        df_new['ex/em']=df.iloc[:,0]\n",
    "        for col in df.columns[1:]:\n",
    "            col1=df[col]\n",
    "            df_new[col]=\"\"\n",
    "            Max=max(col1)\n",
    "            Min=min(col1)\n",
    "            Amp=int((Max-Min)*percent)\n",
    "            new_item_list=[]\n",
    "            for item in col1:\n",
    "                random=np.random.random()\n",
    "                new_item=((item-Amp)+2*Amp*random)\n",
    "                new_item=round(new_item,2)\n",
    "                new_item_list.append(new_item)\n",
    "            df_new[col]=new_item_list\n",
    "        start=startnum\n",
    "        start+=counter\n",
    "        counter+=1\n",
    "        df_new.to_csv(save_path+'\\\\'+name+' ('+str(start)+')'+'.csv', index=False)\n",
    "\n",
    "fp=r\"C:\\Users\\maiaz\\Desktop\\Corradini Lab\\CNN Data\\Dark\"\n",
    "save_path=r\"C:\\Users\\maiaz\\Desktop\"\n",
    "replicate(filepath=fp,percent=0.02, name='Dark', startnum=208)\n",
    "\n",
    "\n"
   ]
  },
  {
   "cell_type": "code",
   "execution_count": null,
   "id": "bb8a0a60",
   "metadata": {},
   "outputs": [],
   "source": []
  },
  {
   "cell_type": "code",
   "execution_count": null,
   "id": "873e9869",
   "metadata": {},
   "outputs": [],
   "source": []
  },
  {
   "cell_type": "code",
   "execution_count": null,
   "id": "9b39075a",
   "metadata": {},
   "outputs": [],
   "source": []
  }
 ],
 "metadata": {
  "kernelspec": {
   "display_name": "Python 3 (ipykernel)",
   "language": "python",
   "name": "python3"
  },
  "language_info": {
   "codemirror_mode": {
    "name": "ipython",
    "version": 3
   },
   "file_extension": ".py",
   "mimetype": "text/x-python",
   "name": "python",
   "nbconvert_exporter": "python",
   "pygments_lexer": "ipython3",
   "version": "3.10.8"
  }
 },
 "nbformat": 4,
 "nbformat_minor": 5
}
