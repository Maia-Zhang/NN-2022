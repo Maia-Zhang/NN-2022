{
 "cells": [
  {
   "cell_type": "code",
   "execution_count": 232,
   "id": "03a99614",
   "metadata": {},
   "outputs": [],
   "source": [
    "import numpy as np\n",
    "import pandas as pd\n",
    "import tensorflow as tf\n",
    "from tensorflow import keras\n",
    "import scipy as sp\n",
    "import csv\n",
    "import random\n",
    "\n",
    "def replicate(path, save_path, percent):\n",
    "    '''\n",
    "    inputs: \n",
    "    path: csv loadpath that the user wishes to replicate\n",
    "    save_path: where the user wants to save their new, duplicate csv. \n",
    "    percent: The percent noise that the user wants to add\n",
    "    \n",
    "    ouputs: Double the amount of csv's as before in the location defined by the user. \n",
    "    '''\n",
    "    df=pd.read_csv(lp,header=None)\n",
    "    df_labels=df.iloc[1:,0]\n",
    "    df_features=df.iloc[0,:]\n",
    "    frames=[df_labels,df_labels]\n",
    "    df_labels=pd.concat(frames)\n",
    "    df_no_labels=(df.iloc[1:,1:])\n",
    "    df_no_labels_copy=df_no_labels\n",
    "    max_elements = df_no_labels.max(axis=0)\n",
    "    min_elements = df_no_labels.min(axis=0)\n",
    "    amp=(max_elements-min_elements)*percent\n",
    "    for row in (range(len(df_no_labels.iloc[:,0]))):\n",
    "        for i in range(len(df_no_labels.iloc[1,:])):\n",
    "            item=(df_no_labels.iloc[row,i])-amp[i+1]+2*amp[i+1]*random.random()\n",
    "            df_no_labels_copy.iloc[row,i]=item\n",
    "    frames=[df_no_labels,df_no_labels_copy]\n",
    "    result=pd.concat(frames, ignore_index=True)\n",
    "    df_labels=df_labels.reset_index(drop=True)\n",
    "    result.insert(0,'0', df_labels)\n",
    "    result.loc[-1]=df_features\n",
    "    result.index = result.index + 1\n",
    "    result=result.sort_index()\n",
    "    result=result.round(2)\n",
    "    result.to_csv(sp,index=False,header=False)\n",
    "        \n",
    "lp= r\"C:\\Users\\maiaz\\Desktop\\Corradini Lab\\Amber Every 5 (ex290350).csv\"\n",
    "sp=r\"C:\\Users\\maiaz\\Desktop\\test.csv\"\n",
    "\n",
    "replicate(lp,sp,.02)\n"
   ]
  },
  {
   "cell_type": "code",
   "execution_count": null,
   "id": "d0fa366d",
   "metadata": {},
   "outputs": [],
   "source": []
  }
 ],
 "metadata": {
  "kernelspec": {
   "display_name": "Python 3 (ipykernel)",
   "language": "python",
   "name": "python3"
  },
  "language_info": {
   "codemirror_mode": {
    "name": "ipython",
    "version": 3
   },
   "file_extension": ".py",
   "mimetype": "text/x-python",
   "name": "python",
   "nbconvert_exporter": "python",
   "pygments_lexer": "ipython3",
   "version": "3.9.16"
  }
 },
 "nbformat": 4,
 "nbformat_minor": 5
}
